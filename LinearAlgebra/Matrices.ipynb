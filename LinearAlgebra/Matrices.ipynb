{
 "cells": [
  {
   "cell_type": "markdown",
   "id": "cd81f40f-f382-4fa1-be44-d1d58c93ac6f",
   "metadata": {},
   "source": [
    "# Basics of Matrices"
   ]
  },
  {
   "cell_type": "markdown",
   "source": [
    "## Importing modules"
   ],
   "metadata": {
    "collapsed": false
   },
   "id": "ccb03cca511918f4"
  },
  {
   "cell_type": "code",
   "outputs": [],
   "source": [
    "import numpy as np"
   ],
   "metadata": {
    "collapsed": false,
    "ExecuteTime": {
     "end_time": "2024-01-22T18:01:15.072497Z",
     "start_time": "2024-01-22T18:01:14.958688Z"
    }
   },
   "id": "ceaefa830753fdc3",
   "execution_count": 1
  },
  {
   "cell_type": "markdown",
   "source": [
    "## Basic Matrix creation"
   ],
   "metadata": {
    "collapsed": false
   },
   "id": "fb62816042e1b3e6"
  },
  {
   "cell_type": "code",
   "outputs": [
    {
     "name": "stdout",
     "output_type": "stream",
     "text": [
      "[[1 2]\n",
      " [3 4]]\n",
      "<class 'numpy.matrix'>\n",
      "2\n",
      "(2, 2)\n"
     ]
    }
   ],
   "source": [
    "# using numpy.matrix\n",
    "a = np.matrix('1,2; 3,4')\n",
    "print(a)\n",
    "print(type(a))\n",
    "print(a.ndim)\n",
    "print(a.shape)"
   ],
   "metadata": {
    "collapsed": false,
    "ExecuteTime": {
     "end_time": "2024-01-22T18:01:15.094726Z",
     "start_time": "2024-01-22T18:01:15.081100Z"
    }
   },
   "id": "2a645816d6dad928",
   "execution_count": 2
  },
  {
   "cell_type": "code",
   "outputs": [
    {
     "name": "stdout",
     "output_type": "stream",
     "text": [
      "[[1 2 3]\n",
      " [4 5 6]\n",
      " [7 8 9]]\n",
      "<class 'numpy.matrix'>\n",
      "2\n",
      "(3, 3)\n"
     ]
    }
   ],
   "source": [
    "# using numpy.matrix\n",
    "b = np.matrix('1, 2, 3; 4, 5, 6; 7,8,9')\n",
    "print(b)\n",
    "print(type(b))\n",
    "print(b.ndim)\n",
    "print(b.shape)"
   ],
   "metadata": {
    "collapsed": false,
    "ExecuteTime": {
     "end_time": "2024-01-22T18:01:15.116618Z",
     "start_time": "2024-01-22T18:01:15.099517Z"
    }
   },
   "id": "38321aef191919fb",
   "execution_count": 3
  },
  {
   "cell_type": "code",
   "outputs": [
    {
     "name": "stdout",
     "output_type": "stream",
     "text": [
      "[[1 2]\n",
      " [3 4]]\n",
      "<class 'numpy.ndarray'>\n",
      "[[1 2]\n",
      " [3 4]]\n",
      "<class 'numpy.matrix'>\n"
     ]
    }
   ],
   "source": [
    "# using numpy.array\n",
    "arr_a = np.array([1, 2, 3, 4]).reshape(2,2)\n",
    "print(arr_a)\n",
    "print(type(arr_a))\n",
    "# converting numpy.array to numpy.matrix\n",
    "matrix_a = np.asmatrix(arr_a)\n",
    "print(matrix_a)\n",
    "print(type(matrix_a))"
   ],
   "metadata": {
    "collapsed": false,
    "ExecuteTime": {
     "end_time": "2024-01-22T18:01:15.117520Z",
     "start_time": "2024-01-22T18:01:15.112484Z"
    }
   },
   "id": "68dfe3f1c1c9f139",
   "execution_count": 4
  },
  {
   "cell_type": "code",
   "outputs": [
    {
     "name": "stdout",
     "output_type": "stream",
     "text": [
      "[0 0 0 0 0]\n",
      "[[0 0]\n",
      " [0 0]]\n",
      "[[1.+0.j 1.+0.j 1.+0.j]\n",
      " [1.+0.j 1.+0.j 1.+0.j]\n",
      " [1.+0.j 1.+0.j 1.+0.j]]\n"
     ]
    }
   ],
   "source": [
    "array_a = np.zeros(5, dtype=int)\n",
    "print(array_a)\n",
    "array_b = np.zeros((2,2), dtype=int)\n",
    "print(array_b)\n",
    "array_c = np.ones(9, dtype=complex).reshape(3,3)\n",
    "print(array_c)"
   ],
   "metadata": {
    "collapsed": false,
    "ExecuteTime": {
     "end_time": "2024-01-22T18:01:15.125345Z",
     "start_time": "2024-01-22T18:01:15.121100Z"
    }
   },
   "id": "6ed520bf85abd844",
   "execution_count": 5
  },
  {
   "cell_type": "code",
   "outputs": [
    {
     "name": "stdout",
     "output_type": "stream",
     "text": [
      "[[0.01406774 0.68738552]\n",
      " [0.99228243 0.42909045]]\n",
      "(2, 2)\n",
      "<class 'numpy.ndarray'>\n",
      "[[0.01406774 0.68738552]\n",
      " [0.99228243 0.42909045]]\n",
      "<class 'numpy.matrix'>\n"
     ]
    }
   ],
   "source": [
    "x = np.random.rand(2,2)\n",
    "print(x)\n",
    "print(x.shape)\n",
    "print(type(x))\n",
    "y = np.asmatrix(x)\n",
    "print(y)\n",
    "print(type(y))"
   ],
   "metadata": {
    "collapsed": false,
    "ExecuteTime": {
     "end_time": "2024-01-22T18:01:15.130159Z",
     "start_time": "2024-01-22T18:01:15.126115Z"
    }
   },
   "id": "8e62cb33e99b71f8",
   "execution_count": 6
  },
  {
   "cell_type": "code",
   "outputs": [
    {
     "name": "stdout",
     "output_type": "stream",
     "text": [
      "[[0 1 2 3]\n",
      " [4 5 6 7]]\n",
      "[[20 21 22 23 24]\n",
      " [25 26 27 28 29]]\n",
      "[ 1  6 11 16 21 26 31 36 41 46]\n",
      "[[ 1  6]\n",
      " [11 16]\n",
      " [21 26]\n",
      " [31 36]\n",
      " [41 46]]\n"
     ]
    }
   ],
   "source": [
    "x = np.arange(8).reshape(2,4)\n",
    "print(x)\n",
    "y = np.arange(20, 30).reshape(2,5)\n",
    "print(y)\n",
    "z = np.arange(1, 50, 5)\n",
    "print(z)\n",
    "print(np.reshape(z, (5,2)))"
   ],
   "metadata": {
    "collapsed": false,
    "ExecuteTime": {
     "end_time": "2024-01-22T18:01:15.184710Z",
     "start_time": "2024-01-22T18:01:15.130362Z"
    }
   },
   "id": "9d7c805813c1d37d",
   "execution_count": 7
  },
  {
   "cell_type": "code",
   "outputs": [],
   "source": [],
   "metadata": {
    "collapsed": false,
    "ExecuteTime": {
     "end_time": "2024-01-22T18:01:15.185306Z",
     "start_time": "2024-01-22T18:01:15.134597Z"
    }
   },
   "id": "f80e6d1325af3f30",
   "execution_count": 7
  }
 ],
 "metadata": {
  "kernelspec": {
   "display_name": "Python 3 (ipykernel)",
   "language": "python",
   "name": "python3"
  },
  "language_info": {
   "codemirror_mode": {
    "name": "ipython",
    "version": 3
   },
   "file_extension": ".py",
   "mimetype": "text/x-python",
   "name": "python",
   "nbconvert_exporter": "python",
   "pygments_lexer": "ipython3",
   "version": "3.12.1"
  }
 },
 "nbformat": 4,
 "nbformat_minor": 5
}
