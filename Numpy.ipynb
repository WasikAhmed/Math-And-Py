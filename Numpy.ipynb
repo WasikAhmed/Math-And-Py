{
 "cells": [
  {
   "cell_type": "markdown",
   "id": "f616561d-9357-42cb-9e36-19913a4c9e93",
   "metadata": {},
   "source": [
    "# Numpy Basics"
   ]
  },
  {
   "cell_type": "code",
   "execution_count": 1,
   "id": "82bce018-8dd5-4405-bef3-47d2ed9c1cde",
   "metadata": {
    "ExecuteTime": {
     "end_time": "2024-01-22T18:02:28.029030Z",
     "start_time": "2024-01-22T18:02:27.253612Z"
    }
   },
   "outputs": [
    {
     "name": "stdout",
     "output_type": "stream",
     "text": [
      "Requirement already satisfied: numpy in ./venv/lib/python3.12/site-packages (1.26.3)\r\n"
     ]
    }
   ],
   "source": [
    "# install numpy using pip\n",
    "!pip install numpy"
   ]
  },
  {
   "cell_type": "markdown",
   "source": [
    "## Importing modules"
   ],
   "metadata": {
    "collapsed": false
   },
   "id": "d0b9b2a8225e4367"
  },
  {
   "cell_type": "code",
   "execution_count": 2,
   "id": "2733b52e-13cd-4a88-81e5-73bb65ac759c",
   "metadata": {
    "ExecuteTime": {
     "end_time": "2024-01-22T18:02:28.108733Z",
     "start_time": "2024-01-22T18:02:28.030978Z"
    }
   },
   "outputs": [],
   "source": [
    "import numpy as np"
   ]
  },
  {
   "cell_type": "markdown",
   "source": [
    "## Creating basic arrays"
   ],
   "metadata": {
    "collapsed": false
   },
   "id": "e874052783d2bcf4"
  },
  {
   "cell_type": "markdown",
   "source": [
    "### using np.array()"
   ],
   "metadata": {
    "collapsed": false
   },
   "id": "aae9cdc6f6682546"
  },
  {
   "cell_type": "code",
   "execution_count": 3,
   "id": "3a46c14b-5afc-44df-8815-c387313cd85d",
   "metadata": {
    "ExecuteTime": {
     "end_time": "2024-01-22T18:02:28.161751Z",
     "start_time": "2024-01-22T18:02:28.116678Z"
    }
   },
   "outputs": [
    {
     "name": "stdout",
     "output_type": "stream",
     "text": [
      "[1 2 3]\n",
      "<class 'numpy.ndarray'>\n",
      "[1. 2. 3.]\n",
      "<class 'numpy.ndarray'>\n"
     ]
    }
   ],
   "source": [
    "a = np.array([1,2,3], dtype=int)\n",
    "print(a)\n",
    "print(type(a))\n",
    "\n",
    "b = np.array((1,2,3), dtype=float)\n",
    "print(b)\n",
    "print(type(b))"
   ]
  },
  {
   "cell_type": "code",
   "execution_count": 4,
   "id": "48ed22e3-3bb8-417a-96ff-ff4348765790",
   "metadata": {
    "ExecuteTime": {
     "end_time": "2024-01-22T18:02:28.176149Z",
     "start_time": "2024-01-22T18:02:28.148939Z"
    }
   },
   "outputs": [
    {
     "name": "stdout",
     "output_type": "stream",
     "text": [
      "two dimensional array\n",
      " [[1.+0.j 2.+0.j]\n",
      " [4.+0.j 5.+0.j]]\n",
      "number of dimensions 2\n",
      "size of each dimension (2, 2)\n",
      "three dimensional array\n",
      " [[[1. 2. 3.]\n",
      "  [4. 5. 6.]\n",
      "  [7. 8. 9.]]]\n",
      "number of dimensions 3\n",
      "size of each dimension (1, 3, 3)\n"
     ]
    }
   ],
   "source": [
    "# two-dimensional array\n",
    "two_dim_array = np.array([[1,2],[4,5]], dtype=complex)\n",
    "print('two dimensional array\\n', two_dim_array)\n",
    "print('number of dimensions', two_dim_array.ndim)\n",
    "print('size of each dimension', two_dim_array.shape)\n",
    "\n",
    "# three-dimensional array\n",
    "three_dim_array = np.array([[[1,2,3],[4,5,6],[7,8,9]]], dtype=float)\n",
    "print('three dimensional array\\n',three_dim_array)\n",
    "print('number of dimensions', three_dim_array.ndim)\n",
    "print('size of each dimension', three_dim_array.shape)"
   ]
  },
  {
   "cell_type": "markdown",
   "source": [
    "## Important Attributes"
   ],
   "metadata": {
    "collapsed": false
   },
   "id": "43a1d24845d0f75e"
  },
  {
   "cell_type": "markdown",
   "source": [
    "**NumPy’s array class is called `ndarray`**\n",
    "\n",
    "The more important attributes of a ndarray object are:\n",
    "- ndarray.ndim\n",
    "- ndarray.shape\n",
    "- ndarray.size\n",
    "- ndarray.dtype\n",
    "- ndarray.itemsize"
   ],
   "metadata": {
    "collapsed": false
   },
   "id": "d57c2430815cb646"
  },
  {
   "cell_type": "code",
   "outputs": [],
   "source": [],
   "metadata": {
    "collapsed": false,
    "ExecuteTime": {
     "end_time": "2024-01-22T18:02:28.177387Z",
     "start_time": "2024-01-22T18:02:28.159265Z"
    }
   },
   "id": "28aac495d68c4f99",
   "execution_count": 4
  }
 ],
 "metadata": {
  "kernelspec": {
   "display_name": "Python 3 (ipykernel)",
   "language": "python",
   "name": "python3"
  },
  "language_info": {
   "codemirror_mode": {
    "name": "ipython",
    "version": 3
   },
   "file_extension": ".py",
   "mimetype": "text/x-python",
   "name": "python",
   "nbconvert_exporter": "python",
   "pygments_lexer": "ipython3",
   "version": "3.12.1"
  }
 },
 "nbformat": 4,
 "nbformat_minor": 5
}
