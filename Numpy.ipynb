{
 "cells": [
  {
   "cell_type": "markdown",
   "id": "f616561d-9357-42cb-9e36-19913a4c9e93",
   "metadata": {},
   "source": [
    "# Numpy Basics"
   ]
  },
  {
   "cell_type": "code",
   "execution_count": 1,
   "id": "82bce018-8dd5-4405-bef3-47d2ed9c1cde",
   "metadata": {
    "ExecuteTime": {
     "end_time": "2024-01-24T17:47:52.922887Z",
     "start_time": "2024-01-24T17:47:52.105170Z"
    }
   },
   "outputs": [
    {
     "name": "stdout",
     "output_type": "stream",
     "text": [
      "Requirement already satisfied: numpy in ./venv/lib/python3.12/site-packages (1.26.3)\r\n"
     ]
    }
   ],
   "source": [
    "# install numpy using pip\n",
    "!pip install numpy"
   ]
  },
  {
   "cell_type": "markdown",
   "source": [
    "## Importing modules"
   ],
   "metadata": {
    "collapsed": false
   },
   "id": "d0b9b2a8225e4367"
  },
  {
   "cell_type": "code",
   "execution_count": 2,
   "id": "2733b52e-13cd-4a88-81e5-73bb65ac759c",
   "metadata": {
    "ExecuteTime": {
     "end_time": "2024-01-24T17:47:53.022405Z",
     "start_time": "2024-01-24T17:47:52.916005Z"
    }
   },
   "outputs": [],
   "source": [
    "import numpy as np"
   ]
  },
  {
   "cell_type": "markdown",
   "source": [
    "## Creating basic arrays"
   ],
   "metadata": {
    "collapsed": false
   },
   "id": "e874052783d2bcf4"
  },
  {
   "cell_type": "markdown",
   "source": [
    "### using np.array()"
   ],
   "metadata": {
    "collapsed": false
   },
   "id": "aae9cdc6f6682546"
  },
  {
   "cell_type": "code",
   "execution_count": 3,
   "id": "3a46c14b-5afc-44df-8815-c387313cd85d",
   "metadata": {
    "ExecuteTime": {
     "end_time": "2024-01-24T17:47:53.030623Z",
     "start_time": "2024-01-24T17:47:53.023936Z"
    }
   },
   "outputs": [
    {
     "name": "stdout",
     "output_type": "stream",
     "text": [
      "[1 2 3]\n",
      "<class 'numpy.ndarray'>\n",
      "[1. 2. 3.]\n",
      "<class 'numpy.ndarray'>\n"
     ]
    }
   ],
   "source": [
    "a = np.array([1,2,3], dtype=int)\n",
    "print(a)\n",
    "print(type(a))\n",
    "\n",
    "b = np.array((1,2,3), dtype=float)\n",
    "print(b)\n",
    "print(type(b))"
   ]
  },
  {
   "cell_type": "code",
   "execution_count": 4,
   "id": "48ed22e3-3bb8-417a-96ff-ff4348765790",
   "metadata": {
    "ExecuteTime": {
     "end_time": "2024-01-24T17:47:53.037465Z",
     "start_time": "2024-01-24T17:47:53.031202Z"
    }
   },
   "outputs": [
    {
     "name": "stdout",
     "output_type": "stream",
     "text": [
      "two dimensional array\n",
      " [[1.+0.j 2.+0.j]\n",
      " [4.+0.j 5.+0.j]]\n",
      "number of dimensions 2\n",
      "size of each dimension (2, 2)\n",
      "three dimensional array\n",
      " [[[1. 2. 3.]\n",
      "  [4. 5. 6.]\n",
      "  [7. 8. 9.]]]\n",
      "number of dimensions 3\n",
      "size of each dimension (1, 3, 3)\n"
     ]
    }
   ],
   "source": [
    "# two-dimensional array\n",
    "two_dim_array = np.array([[1,2],[4,5]], dtype=complex)\n",
    "print('two dimensional array\\n', two_dim_array)\n",
    "print('number of dimensions', two_dim_array.ndim)\n",
    "print('size of each dimension', two_dim_array.shape)\n",
    "\n",
    "# three-dimensional array\n",
    "three_dim_array = np.array([[[1,2,3],[4,5,6],[7,8,9]]], dtype=float)\n",
    "print('three dimensional array\\n',three_dim_array)\n",
    "print('number of dimensions', three_dim_array.ndim)\n",
    "print('size of each dimension', three_dim_array.shape)"
   ]
  },
  {
   "cell_type": "markdown",
   "source": [
    "## Important Attributes"
   ],
   "metadata": {
    "collapsed": false
   },
   "id": "43a1d24845d0f75e"
  },
  {
   "cell_type": "markdown",
   "source": [
    "**NumPy’s array class is called `ndarray`**\n",
    "\n",
    "The more important attributes of a ndarray object are:\n",
    "- ndarray.ndim\n",
    "- ndarray.shape\n",
    "- ndarray.size\n",
    "- ndarray.dtype\n",
    "- ndarray.itemsize"
   ],
   "metadata": {
    "collapsed": false
   },
   "id": "d57c2430815cb646"
  },
  {
   "cell_type": "code",
   "outputs": [],
   "source": [],
   "metadata": {
    "collapsed": false,
    "ExecuteTime": {
     "end_time": "2024-01-24T17:47:53.043486Z",
     "start_time": "2024-01-24T17:47:53.037613Z"
    }
   },
   "id": "28aac495d68c4f99",
   "execution_count": 4
  },
  {
   "cell_type": "markdown",
   "source": [
    "## Reshape array"
   ],
   "metadata": {
    "collapsed": false
   },
   "id": "3f745094d5fab570"
  },
  {
   "cell_type": "code",
   "outputs": [
    {
     "name": "stdout",
     "output_type": "stream",
     "text": [
      "[0 1 2 3 4 5 6 7 8]\n",
      "[[0 1 2]\n",
      " [3 4 5]\n",
      " [6 7 8]]\n"
     ]
    }
   ],
   "source": [
    "a = np.arange(9)\n",
    "print(a)\n",
    "a = np.reshape(a, newshape=(3,3))\n",
    "print(a)"
   ],
   "metadata": {
    "collapsed": false,
    "ExecuteTime": {
     "end_time": "2024-01-24T17:47:53.081832Z",
     "start_time": "2024-01-24T17:47:53.042741Z"
    }
   },
   "id": "c38c69b6d45cb676",
   "execution_count": 5
  },
  {
   "cell_type": "markdown",
   "source": [
    "## Sorting"
   ],
   "metadata": {
    "collapsed": false
   },
   "id": "641c802677c47ff6"
  },
  {
   "cell_type": "code",
   "outputs": [
    {
     "name": "stdout",
     "output_type": "stream",
     "text": [
      "[ 5 10 25 30 50]\n"
     ]
    }
   ],
   "source": [
    "a = np.array([10, 25, 30, 5, 50])\n",
    "a = np.sort(a)\n",
    "print(a)"
   ],
   "metadata": {
    "collapsed": false,
    "ExecuteTime": {
     "end_time": "2024-01-24T17:47:53.082496Z",
     "start_time": "2024-01-24T17:47:53.048404Z"
    }
   },
   "id": "eee5ff4a32ebecda",
   "execution_count": 6
  },
  {
   "cell_type": "markdown",
   "source": [
    "## Concatenation"
   ],
   "metadata": {
    "collapsed": false
   },
   "id": "c33a8592a503eeef"
  },
  {
   "cell_type": "code",
   "outputs": [
    {
     "name": "stdout",
     "output_type": "stream",
     "text": [
      "[10 15 20 25 30 35 40 45 50]\n",
      "[ 60  70  80  90 100 110 120]\n",
      "[ 10  15  20  25  30  35  40  45  50  60  70  80  90 100 110 120]\n"
     ]
    }
   ],
   "source": [
    "a = np.arange(10, 51, 5)\n",
    "print(a)\n",
    "b = np.arange(60, 121, 10)\n",
    "print(b)\n",
    "c = np.concatenate((a,b))\n",
    "print(c)"
   ],
   "metadata": {
    "collapsed": false,
    "ExecuteTime": {
     "end_time": "2024-01-24T17:47:53.082803Z",
     "start_time": "2024-01-24T17:47:53.054473Z"
    }
   },
   "id": "f8c410820abe956",
   "execution_count": 7
  },
  {
   "cell_type": "markdown",
   "source": [
    "## Mean"
   ],
   "metadata": {
    "collapsed": false
   },
   "id": "1a89439cc092c498"
  },
  {
   "cell_type": "code",
   "outputs": [
    {
     "name": "stdout",
     "output_type": "stream",
     "text": [
      "2.0\n",
      "[[0 1 2]\n",
      " [3 4 5]\n",
      " [6 7 8]]\n",
      "4.0\n"
     ]
    }
   ],
   "source": [
    "a = np.array([1,2,3])\n",
    "print(a.mean())\n",
    "b = np.arange(9).reshape(3,3)\n",
    "print(b)\n",
    "print(b.mean())"
   ],
   "metadata": {
    "collapsed": false,
    "ExecuteTime": {
     "end_time": "2024-01-24T17:47:53.083048Z",
     "start_time": "2024-01-24T17:47:53.060248Z"
    }
   },
   "id": "15acb3589d198a19",
   "execution_count": 8
  },
  {
   "cell_type": "code",
   "outputs": [
    {
     "name": "stdout",
     "output_type": "stream",
     "text": [
      "[[1 2]\n",
      " [3 4]]\n",
      "2.5\n"
     ]
    }
   ],
   "source": [
    "a = np.arange(1,5).reshape(2,2)\n",
    "print(a)\n",
    "print(a.mean())"
   ],
   "metadata": {
    "collapsed": false,
    "ExecuteTime": {
     "end_time": "2024-01-24T17:47:53.083369Z",
     "start_time": "2024-01-24T17:47:53.064712Z"
    }
   },
   "id": "bf7b51de447a8f45",
   "execution_count": 9
  },
  {
   "cell_type": "code",
   "outputs": [],
   "source": [],
   "metadata": {
    "collapsed": false,
    "ExecuteTime": {
     "end_time": "2024-01-24T17:47:53.157844Z",
     "start_time": "2024-01-24T17:47:53.069762Z"
    }
   },
   "id": "1eb98fd56b7974ff",
   "execution_count": 9
  }
 ],
 "metadata": {
  "kernelspec": {
   "display_name": "Python 3 (ipykernel)",
   "language": "python",
   "name": "python3"
  },
  "language_info": {
   "codemirror_mode": {
    "name": "ipython",
    "version": 3
   },
   "file_extension": ".py",
   "mimetype": "text/x-python",
   "name": "python",
   "nbconvert_exporter": "python",
   "pygments_lexer": "ipython3",
   "version": "3.12.1"
  }
 },
 "nbformat": 4,
 "nbformat_minor": 5
}
