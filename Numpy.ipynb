{
 "cells": [
  {
   "cell_type": "markdown",
   "id": "f616561d-9357-42cb-9e36-19913a4c9e93",
   "metadata": {},
   "source": [
    "# Numpy Basics"
   ]
  },
  {
   "cell_type": "code",
   "execution_count": 12,
   "id": "82bce018-8dd5-4405-bef3-47d2ed9c1cde",
   "metadata": {
    "ExecuteTime": {
     "end_time": "2024-01-20T23:37:04.659121Z",
     "start_time": "2024-01-20T23:37:02.878349Z"
    }
   },
   "outputs": [
    {
     "name": "stdout",
     "output_type": "stream",
     "text": [
      "Requirement already satisfied: numpy in /Users/wasik/GitHub/Math-And-Py/venv/lib/python3.12/site-packages (1.26.3)\r\n"
     ]
    }
   ],
   "source": [
    "# install numpy using pip\n",
    "!pip install numpy"
   ]
  },
  {
   "cell_type": "markdown",
   "source": [
    "## Importing modules"
   ],
   "metadata": {
    "collapsed": false
   },
   "id": "d0b9b2a8225e4367"
  },
  {
   "cell_type": "code",
   "execution_count": 9,
   "id": "2733b52e-13cd-4a88-81e5-73bb65ac759c",
   "metadata": {
    "ExecuteTime": {
     "end_time": "2024-01-20T23:36:31.789104Z",
     "start_time": "2024-01-20T23:36:31.768481Z"
    }
   },
   "outputs": [],
   "source": [
    "import numpy as np"
   ]
  },
  {
   "cell_type": "markdown",
   "source": [
    "## Creating basic arrays"
   ],
   "metadata": {
    "collapsed": false
   },
   "id": "e874052783d2bcf4"
  },
  {
   "cell_type": "markdown",
   "source": [
    "### using np.array()"
   ],
   "metadata": {
    "collapsed": false
   },
   "id": "aae9cdc6f6682546"
  },
  {
   "cell_type": "code",
   "execution_count": 18,
   "id": "3a46c14b-5afc-44df-8815-c387313cd85d",
   "metadata": {
    "ExecuteTime": {
     "end_time": "2024-01-20T23:57:03.512184Z",
     "start_time": "2024-01-20T23:57:03.510413Z"
    }
   },
   "outputs": [
    {
     "name": "stdout",
     "output_type": "stream",
     "text": [
      "[1 2 3]\n",
      "<class 'numpy.ndarray'>\n",
      "[1. 2. 3.]\n",
      "<class 'numpy.ndarray'>\n"
     ]
    }
   ],
   "source": [
    "a = np.array([1,2,3], dtype=int)\n",
    "print(a)\n",
    "print(type(a))\n",
    "\n",
    "b = np.array((1,2,3), dtype=float)\n",
    "print(b)\n",
    "print(type(b))"
   ]
  },
  {
   "cell_type": "code",
   "execution_count": 38,
   "id": "48ed22e3-3bb8-417a-96ff-ff4348765790",
   "metadata": {
    "ExecuteTime": {
     "end_time": "2024-01-21T00:28:01.862121Z",
     "start_time": "2024-01-21T00:28:01.859004Z"
    }
   },
   "outputs": [
    {
     "name": "stdout",
     "output_type": "stream",
     "text": [
      "two dimensional array\n",
      " [[1 2]\n",
      " [4 5]]\n",
      "number of dimensions 2\n",
      "size of each dimension (2, 2)\n",
      "three dimensional array\n",
      " [[[1. 2. 3.]\n",
      "  [4. 5. 6.]\n",
      "  [7. 8. 9.]]]\n",
      "number of dimensions 3\n",
      "size of each dimension (1, 3, 3)\n"
     ]
    }
   ],
   "source": [
    "# two dimensional array\n",
    "two_dim_array = np.array([[1,2],[4,5]], dtype=int)\n",
    "print('two dimensional array\\n', two_dim_array)\n",
    "print('number of dimensions', two_dim_array.ndim)\n",
    "print('size of each dimension', two_dim_array.shape)\n",
    "\n",
    "# three dimensional array\n",
    "three_dim_array = np.array([[[1,2,3],[4,5,6],[7,8,9]]], dtype=float)\n",
    "print('three dimensional array\\n',three_dim_array)\n",
    "print('number of dimensions', three_dim_array.ndim)\n",
    "print('size of each dimension', three_dim_array.shape)"
   ]
  },
  {
   "cell_type": "code",
   "outputs": [],
   "source": [],
   "metadata": {
    "collapsed": false
   },
   "id": "975fed14d928dd51"
  }
 ],
 "metadata": {
  "kernelspec": {
   "display_name": "Python 3 (ipykernel)",
   "language": "python",
   "name": "python3"
  },
  "language_info": {
   "codemirror_mode": {
    "name": "ipython",
    "version": 3
   },
   "file_extension": ".py",
   "mimetype": "text/x-python",
   "name": "python",
   "nbconvert_exporter": "python",
   "pygments_lexer": "ipython3",
   "version": "3.12.1"
  }
 },
 "nbformat": 4,
 "nbformat_minor": 5
}
